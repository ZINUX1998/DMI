{
 "cells": [
  {
   "cell_type": "code",
   "execution_count": 1,
   "id": "9d0d835b",
   "metadata": {
    "ExecuteTime": {
     "end_time": "2024-07-25T04:41:29.997040Z",
     "start_time": "2024-07-25T04:41:29.290209Z"
    }
   },
   "outputs": [],
   "source": [
    "import pandas as pd\n",
    "import os\n",
    "import pickle\n",
    "from argparse import ArgumentParser\n",
    "from collections import Counter\n",
    "import numpy as np\n",
    "from sklearn.model_selection import train_test_split\n",
    "from scipy.sparse import csr_matrix"
   ]
  },
  {
   "cell_type": "code",
   "execution_count": 2,
   "id": "c4963877",
   "metadata": {
    "ExecuteTime": {
     "end_time": "2024-07-25T04:41:30.014032Z",
     "start_time": "2024-07-25T04:41:29.998294Z"
    }
   },
   "outputs": [],
   "source": [
    "def save_pickle(o, fname):\n",
    "    with open(fname, 'wb') as handle:\n",
    "        pickle.dump(o, handle, protocol=pickle.HIGHEST_PROTOCOL)"
   ]
  },
  {
   "cell_type": "code",
   "execution_count": 3,
   "id": "47014846",
   "metadata": {
    "ExecuteTime": {
     "end_time": "2024-07-25T04:41:30.031371Z",
     "start_time": "2024-07-25T04:41:30.015801Z"
    }
   },
   "outputs": [
    {
     "name": "stderr",
     "output_type": "stream",
     "text": [
      "C:\\Users\\17721\\AppData\\Local\\Temp\\ipykernel_11956\\3367524148.py:2: DeprecationWarning: Please import `coo_matrix` from the `scipy.sparse` namespace; the `scipy.sparse.coo` namespace is deprecated and will be removed in SciPy 2.0.0.\n",
      "  train_edges = pickle.load(f)\n"
     ]
    }
   ],
   "source": [
    "with open('trnMat.pkl', 'rb') as f:\n",
    "\ttrain_edges = pickle.load(f)"
   ]
  },
  {
   "cell_type": "code",
   "execution_count": 4,
   "id": "583ed79b",
   "metadata": {
    "ExecuteTime": {
     "end_time": "2024-07-25T04:41:30.050043Z",
     "start_time": "2024-07-25T04:41:30.032375Z"
    }
   },
   "outputs": [
    {
     "data": {
      "text/plain": [
       "<42712x26822 sparse matrix of type '<class 'numpy.float64'>'\n",
       "\twith 182357 stored elements in COOrdinate format>"
      ]
     },
     "execution_count": 4,
     "metadata": {},
     "output_type": "execute_result"
    }
   ],
   "source": [
    "train_edges"
   ]
  },
  {
   "cell_type": "code",
   "execution_count": 5,
   "id": "7ec930a8",
   "metadata": {
    "ExecuteTime": {
     "end_time": "2024-07-25T04:41:30.066696Z",
     "start_time": "2024-07-25T04:41:30.051226Z"
    }
   },
   "outputs": [
    {
     "name": "stderr",
     "output_type": "stream",
     "text": [
      "C:\\Users\\17721\\AppData\\Local\\Temp\\ipykernel_11956\\1581312569.py:2: DeprecationWarning: Please import `coo_matrix` from the `scipy.sparse` namespace; the `scipy.sparse.coo` namespace is deprecated and will be removed in SciPy 2.0.0.\n",
      "  test_edges = pickle.load(f)\n"
     ]
    }
   ],
   "source": [
    "with open('tstMat.pkl', 'rb') as f:\n",
    "\ttest_edges = pickle.load(f)"
   ]
  },
  {
   "cell_type": "code",
   "execution_count": 6,
   "id": "2380b31f",
   "metadata": {
    "ExecuteTime": {
     "end_time": "2024-07-25T04:41:30.082388Z",
     "start_time": "2024-07-25T04:41:30.068106Z"
    }
   },
   "outputs": [
    {
     "data": {
      "text/plain": [
       "<42712x26822 sparse matrix of type '<class 'numpy.float64'>'\n",
       "\twith 65128 stored elements in COOrdinate format>"
      ]
     },
     "execution_count": 6,
     "metadata": {},
     "output_type": "execute_result"
    }
   ],
   "source": [
    "test_edges"
   ]
  },
  {
   "cell_type": "code",
   "execution_count": 7,
   "id": "2def7630",
   "metadata": {
    "ExecuteTime": {
     "end_time": "2024-07-25T04:41:30.100670Z",
     "start_time": "2024-07-25T04:41:30.085144Z"
    }
   },
   "outputs": [
    {
     "name": "stderr",
     "output_type": "stream",
     "text": [
      "C:\\Users\\17721\\AppData\\Local\\Temp\\ipykernel_11956\\1733918373.py:2: DeprecationWarning: Please import `coo_matrix` from the `scipy.sparse` namespace; the `scipy.sparse.coo` namespace is deprecated and will be removed in SciPy 2.0.0.\n",
      "  val_edges = pickle.load(val_f)\n"
     ]
    }
   ],
   "source": [
    "with open('valMat.pkl', 'rb') as val_f:\n",
    "\tval_edges = pickle.load(val_f)"
   ]
  },
  {
   "cell_type": "code",
   "execution_count": 8,
   "id": "c016cd2b",
   "metadata": {
    "ExecuteTime": {
     "end_time": "2024-07-25T04:41:30.116283Z",
     "start_time": "2024-07-25T04:41:30.101921Z"
    }
   },
   "outputs": [
    {
     "data": {
      "text/plain": [
       "<42712x26822 sparse matrix of type '<class 'numpy.float64'>'\n",
       "\twith 13025 stored elements in COOrdinate format>"
      ]
     },
     "execution_count": 8,
     "metadata": {},
     "output_type": "execute_result"
    }
   ],
   "source": [
    "val_edges"
   ]
  },
  {
   "cell_type": "code",
   "execution_count": 9,
   "id": "246986c2",
   "metadata": {
    "ExecuteTime": {
     "end_time": "2024-07-25T04:41:30.131262Z",
     "start_time": "2024-07-25T04:41:30.117558Z"
    }
   },
   "outputs": [],
   "source": [
    "train_src = train_edges.nonzero()[0]\n",
    "train_dst = train_edges.nonzero()[1]\n",
    "\n",
    "test_src = test_edges.nonzero()[0]\n",
    "test_dst = test_edges.nonzero()[1]\n",
    "\n",
    "val_src = val_edges.nonzero()[0]\n",
    "val_dst = val_edges.nonzero()[1]"
   ]
  },
  {
   "cell_type": "code",
   "execution_count": 10,
   "id": "cc85e6e6",
   "metadata": {
    "ExecuteTime": {
     "end_time": "2024-07-25T04:41:30.147997Z",
     "start_time": "2024-07-25T04:41:30.133209Z"
    }
   },
   "outputs": [
    {
     "data": {
      "text/plain": [
       "(182357,)"
      ]
     },
     "execution_count": 10,
     "metadata": {},
     "output_type": "execute_result"
    }
   ],
   "source": [
    "train_src.shape"
   ]
  },
  {
   "cell_type": "code",
   "execution_count": 11,
   "id": "4d627ea0",
   "metadata": {
    "ExecuteTime": {
     "end_time": "2024-07-25T04:41:30.168038Z",
     "start_time": "2024-07-25T04:41:30.149155Z"
    }
   },
   "outputs": [
    {
     "data": {
      "text/plain": [
       "(65128,)"
      ]
     },
     "execution_count": 11,
     "metadata": {},
     "output_type": "execute_result"
    }
   ],
   "source": [
    "test_src.shape"
   ]
  },
  {
   "cell_type": "code",
   "execution_count": 12,
   "id": "0f3e1dc6",
   "metadata": {
    "ExecuteTime": {
     "end_time": "2024-07-25T04:41:30.199015Z",
     "start_time": "2024-07-25T04:41:30.168038Z"
    }
   },
   "outputs": [],
   "source": [
    "src = list(train_src) + list(val_src) + list(test_src)\n",
    "dst = list(train_dst) + list(val_dst) + list(test_dst)"
   ]
  },
  {
   "cell_type": "code",
   "execution_count": 13,
   "id": "0389432e",
   "metadata": {
    "ExecuteTime": {
     "end_time": "2024-07-25T04:41:30.217128Z",
     "start_time": "2024-07-25T04:41:30.200116Z"
    }
   },
   "outputs": [],
   "source": [
    "edges = np.stack((src, dst), axis=-1)"
   ]
  },
  {
   "cell_type": "code",
   "execution_count": 14,
   "id": "e8c74ea5",
   "metadata": {
    "ExecuteTime": {
     "end_time": "2024-07-25T04:41:30.232444Z",
     "start_time": "2024-07-25T04:41:30.217336Z"
    }
   },
   "outputs": [
    {
     "data": {
      "text/plain": [
       "array([[38634, 25292],\n",
       "       [26668, 25611],\n",
       "       [ 6854,  6356],\n",
       "       ...,\n",
       "       [17792, 17815],\n",
       "       [ 3978,   478],\n",
       "       [14359,  2043]])"
      ]
     },
     "execution_count": 14,
     "metadata": {},
     "output_type": "execute_result"
    }
   ],
   "source": [
    "edges"
   ]
  },
  {
   "cell_type": "code",
   "execution_count": 15,
   "id": "9f6176e1",
   "metadata": {
    "ExecuteTime": {
     "end_time": "2024-07-25T04:41:30.264646Z",
     "start_time": "2024-07-25T04:41:30.233945Z"
    }
   },
   "outputs": [
    {
     "name": "stdout",
     "output_type": "stream",
     "text": [
      "train edges: (156306, 2)\n",
      "test edges: (104204, 2)\n",
      "train graph: (42712, 26822) 156306\n",
      "test graph: (42712, 26822) 104204\n",
      "> saving file\n",
      "save to train.pkl\n",
      "save to test.pkl\n"
     ]
    }
   ],
   "source": [
    "test_ratio = 0.4\n",
    "random_seed = 2020\n",
    "num_U = 42712\n",
    "num_V = 26822\n",
    "\n",
    "train, test = train_test_split(edges, test_size=test_ratio, random_state=random_seed, shuffle=True)\n",
    "print('train edges:', train.shape)\n",
    "# print('initial test edges:', test.shape)\n",
    "print('test edges:', test.shape)\n",
    "\n",
    "csr_train = csr_matrix((np.ones(train.shape[0]), (train[:, 0], train[:, 1])), shape=(num_U, num_V))\n",
    "csr_test = csr_matrix((np.ones(test.shape[0]), (test[:, 0], test[:, 1])), shape=(num_U, num_V))\n",
    "\n",
    "print('train graph:', csr_train.shape, csr_train.nnz)\n",
    "print('test graph:', csr_test.shape, csr_test.nnz)\n",
    "\n",
    "# save files\n",
    "print('> saving file')\n",
    "save_pickle(csr_train, 'train.csr.pickle')\n",
    "print('save to', 'train.pkl')\n",
    "save_pickle(csr_test, 'test.csr.pickle')\n",
    "print('save to', 'test.pkl')"
   ]
  },
  {
   "cell_type": "code",
   "execution_count": null,
   "id": "d1137c41",
   "metadata": {},
   "outputs": [],
   "source": []
  }
 ],
 "metadata": {
  "kernelspec": {
   "display_name": "Python 3 (ipykernel)",
   "language": "python",
   "name": "python3"
  },
  "language_info": {
   "codemirror_mode": {
    "name": "ipython",
    "version": 3
   },
   "file_extension": ".py",
   "mimetype": "text/x-python",
   "name": "python",
   "nbconvert_exporter": "python",
   "pygments_lexer": "ipython3",
   "version": "3.9.19"
  }
 },
 "nbformat": 4,
 "nbformat_minor": 5
}
