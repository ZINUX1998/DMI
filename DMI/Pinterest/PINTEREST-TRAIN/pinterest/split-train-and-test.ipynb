{
 "cells": [
  {
   "cell_type": "code",
   "execution_count": 1,
   "id": "001b28ad",
   "metadata": {
    "ExecuteTime": {
     "end_time": "2024-07-19T10:50:40.099763Z",
     "start_time": "2024-07-19T10:50:37.830016Z"
    }
   },
   "outputs": [],
   "source": [
    "import pandas as pd\n",
    "import os\n",
    "import pickle\n",
    "from argparse import ArgumentParser\n",
    "from collections import Counter\n",
    "import numpy as np\n",
    "from sklearn.model_selection import train_test_split\n",
    "from scipy.sparse import csr_matrix"
   ]
  },
  {
   "cell_type": "code",
   "execution_count": 2,
   "id": "9f459f8f",
   "metadata": {
    "ExecuteTime": {
     "end_time": "2024-07-19T10:50:40.116103Z",
     "start_time": "2024-07-19T10:50:40.105150Z"
    }
   },
   "outputs": [],
   "source": [
    "def save_pickle(o, fname):\n",
    "    with open(fname, 'wb') as handle:\n",
    "        pickle.dump(o, handle, protocol=pickle.HIGHEST_PROTOCOL)"
   ]
  },
  {
   "cell_type": "code",
   "execution_count": 3,
   "id": "afdfd942",
   "metadata": {
    "ExecuteTime": {
     "end_time": "2024-07-19T10:50:47.365766Z",
     "start_time": "2024-07-19T10:50:40.120961Z"
    }
   },
   "outputs": [
    {
     "name": "stdout",
     "output_type": "stream",
     "text": [
      "> reading files\n",
      "> mapping nodes\n",
      "num_U: 55187\n",
      "num_V: 9916\n",
      "> train_test_split\n",
      "train edges: (900485, 2)\n",
      "test edges: (600324, 2)\n",
      "train graph: (55187, 9916) 900485\n",
      "test graph: (55187, 9916) 600324\n",
      "> saving file\n",
      "save to train.pkl\n",
      "save to test.pkl\n"
     ]
    }
   ],
   "source": [
    "np.random.seed(42)\n",
    "\n",
    "cnt_U = Counter()\n",
    "cnt_V = Counter()\n",
    "\n",
    "print('> reading files')\n",
    "with open('edges.dat') as f:\n",
    "    for line in f:\n",
    "        u, v, weight = line.split()\n",
    "        cnt_U[u] += 1\n",
    "        cnt_V[v] += 1\n",
    "\n",
    "print('> mapping nodes')\n",
    "u_mapping = dict((k, i) for i, k in enumerate(cnt_U.keys()))\n",
    "v_mapping = dict((k, i) for i, k in enumerate(cnt_V.keys()))\n",
    "    \n",
    "num_U = len(u_mapping)\n",
    "num_V = len(v_mapping)\n",
    "print('num_U:', num_U)\n",
    "print('num_V:', num_V)\n",
    "\n",
    "save_pickle(u_mapping, 'u_mapping.pickle')\n",
    "save_pickle(v_mapping, 'v_mapping.pickle')\n",
    "\n",
    "src = []\n",
    "dst = []\n",
    "w = []\n",
    "\n",
    "test_ratio = 0.4\n",
    "random_seed = 2020\n",
    "\n",
    "with open('edges.dat') as f:\n",
    "    for line in f:\n",
    "        u, v, weight = line.split()\n",
    "        if u in u_mapping and v in v_mapping:\n",
    "            u_id = u_mapping[u]\n",
    "            v_id = v_mapping[v]\n",
    "            weight = float(weight)\n",
    "            src.append(u_id)\n",
    "            dst.append(v_id)\n",
    "            w.append(weight)\n",
    "\n",
    "src = np.array(src)\n",
    "dst = np.array(dst)\n",
    "\n",
    "w = np.array(w)\n",
    "    \n",
    "# split training and test sets\n",
    "print('> train_test_split')\n",
    "edges = np.stack((src, dst), axis=-1)\n",
    "train, test = train_test_split(edges, test_size=test_ratio, random_state=random_seed, shuffle=True)\n",
    "print('train edges:', train.shape)\n",
    "# print('initial test edges:', test.shape)\n",
    "print('test edges:', test.shape)\n",
    "\n",
    "csr_train = csr_matrix((np.ones(train.shape[0]), (train[:, 0], train[:, 1])), shape=(num_U, num_V))\n",
    "csr_test = csr_matrix((np.ones(test.shape[0]), (test[:, 0], test[:, 1])), shape=(num_U, num_V))\n",
    "\n",
    "print('train graph:', csr_train.shape, csr_train.nnz)\n",
    "print('test graph:', csr_test.shape, csr_test.nnz)\n",
    "\n",
    "# save files\n",
    "print('> saving file')\n",
    "save_pickle(csr_train, 'train.csr.pickle')\n",
    "print('save to', 'train.pkl')\n",
    "save_pickle(csr_test, 'test.csr.pickle')\n",
    "print('save to', 'test.pkl')"
   ]
  },
  {
   "cell_type": "code",
   "execution_count": null,
   "id": "a50209c8",
   "metadata": {},
   "outputs": [],
   "source": []
  }
 ],
 "metadata": {
  "kernelspec": {
   "display_name": "Python 3 (ipykernel)",
   "language": "python",
   "name": "python3"
  },
  "language_info": {
   "codemirror_mode": {
    "name": "ipython",
    "version": 3
   },
   "file_extension": ".py",
   "mimetype": "text/x-python",
   "name": "python",
   "nbconvert_exporter": "python",
   "pygments_lexer": "ipython3",
   "version": "3.9.19"
  }
 },
 "nbformat": 4,
 "nbformat_minor": 5
}
